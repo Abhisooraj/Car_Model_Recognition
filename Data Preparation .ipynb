{
 "cells": [
  {
   "cell_type": "code",
   "execution_count": null,
   "metadata": {},
   "outputs": [],
   "source": []
  },
  {
   "cell_type": "markdown",
   "metadata": {},
   "source": [
    "#### *  Preparing Dataset for Object Classification model"
   ]
  },
  {
   "cell_type": "code",
   "execution_count": 27,
   "metadata": {},
   "outputs": [
    {
     "data": {
      "application/javascript": [
       "IPython.notebook.set_autosave_interval(10000)"
      ]
     },
     "metadata": {},
     "output_type": "display_data"
    },
    {
     "name": "stdout",
     "output_type": "stream",
     "text": [
      "Autosaving every 10 seconds\n"
     ]
    }
   ],
   "source": [
    "%autosave 10"
   ]
  },
  {
   "cell_type": "code",
   "execution_count": 30,
   "metadata": {},
   "outputs": [],
   "source": [
    "from google_images_download import google_images_download  \n",
    "# creating object \n",
    "image_response = google_images_download.googleimagesdownload()  "
   ]
  },
  {
   "cell_type": "code",
   "execution_count": 76,
   "metadata": {},
   "outputs": [],
   "source": [
    "search_queries =  [\"Maruti Suzuki Ertiga\"]\n",
    "# Maruti Suzuki Swift\n",
    "# Honda City\n",
    "# AUDI\n",
    "# Maruti Suzuki Alto\n",
    "# Maruti Suzuki Dzire\n",
    "# Maruti Suzuki Wagon R\n",
    "# Hyundai Elite i20\n",
    "# Hyundai Creta\n",
    "# bmw10_ims"
   ]
  },
  {
   "cell_type": "code",
   "execution_count": 77,
   "metadata": {},
   "outputs": [],
   "source": [
    "def downloadimages(query): \n",
    "    # keywords is the search query \n",
    "    # format is the image file format \n",
    "    # limit is the number of images to be downloaded, google is having a limit of 100 photos in single search \n",
    "    # print urs is to print the image file url \n",
    "    # size is the image size which can be specified manually (\"large, medium, icon\") \n",
    "    # aspect ratio denotes the height width ratio of images to download. (\"tall, square, wide\") \n",
    "    values = {   \"keywords\": query, \n",
    "                 \"format\": \"jpg\", \n",
    "                 \"limit\":100, \n",
    "                 \"aspect_ratio\": \"panoramic\",\n",
    "                 \"print_urls\":True, \n",
    "                 \"size\": \"medium\" \n",
    "                } \n",
    "    try: \n",
    "        image_response.download(values) \n",
    "      \n",
    "    # Handling File NotFound Error     \n",
    "    except FileNotFoundError:  \n",
    "        values = {\"keywords\": query, \n",
    "                     \"format\": \"jpg\", \n",
    "                     \"limit\":100, \n",
    "                     \"print_urls\":True,  \n",
    "                     \"size\": \"medium\"} \n",
    "                       \n",
    "        # Providing arguments for the searched query \n",
    "        try: \n",
    "            # Downloading the photos based \n",
    "            # on the given arguments \n",
    "            image_response.download(values)  \n",
    "        except: \n",
    "            pass"
   ]
  },
  {
   "cell_type": "code",
   "execution_count": 78,
   "metadata": {
    "scrolled": true
   },
   "outputs": [
    {
     "name": "stdout",
     "output_type": "stream",
     "text": [
      "\n",
      "Item no.: 1 --> Item name = Maruti Suzuki Ertiga\n",
      "Evaluating...\n",
      "Starting Download...\n",
      "Image URL: https://cdn6.newsnation.in/images/2019/08/08/ertiga-1000.jpg\n",
      "Completed Image ====> 1.ertiga-1000.jpg\n",
      "Image URL: https://cdn.autoportal.com/img/news/15928/main/898446f7e539484b7492b384b5696899/main_cropped.jpg\n",
      "Completed Image ====> 2.main_cropped.jpg\n",
      "Image URL: https://blog.mahindrafirstchoice.com/wp-content/uploads/2019/02/Maruti-Suzuki-Ertiga.jpg\n",
      "IOError on an image...trying next one... Error: The read operation timed out\n",
      "Image URL: https://www.autonews360.com/wp-content/uploads/2018/12/maruti-ertiga.jpg\n",
      "Completed Image ====> 3.maruti-ertiga.jpg\n",
      "Image URL: https://etimg.etb2bimg.com/photo/70586577.cms\n",
      "Wrong image format returned. Skipping...\n",
      "Image URL: https://s3-ap-southeast-1.amazonaws.com/staticin.izmocars.com/toolkit/IN/2019/19marutisuzuki/19marutisuzukiertiga/19marutisuzukiertiga_pixGallery/_gallerypix/marutisuzuki_ertiga_concept.jpg\n",
      "Completed Image ====> 4.marutisuzuki_ertiga_concept.jpg\n",
      "Image URL: https://exhibitmag.com/wp-content/uploads/2019/04/RED-compressed.jpg\n",
      "Completed Image ====> 5.RED-compressed.jpg\n",
      "Image URL: https://cdn7.newsnation.in/images/2019/07/28/marutisuzukiertiga123-1000.jpg\n",
      "Completed Image ====> 6.marutisuzukiertiga123-1000.jpg\n",
      "Image URL: https://uploads.carandbike.com/used/40514/large/maruti-suzuki-ertiga-left-side-view.jpg?v=1575620165\n",
      "Completed Image ====> 7.maruti-suzuki-ertiga-left-side-view.jpg\n",
      "Image URL: https://cdn.autoportal.com/img/news/15622/main/f9fdeea2c35926fa783521d30f83ced4/main_cropped.jpg\n",
      "Completed Image ====> 8.main_cropped.jpg\n",
      "Image URL: https://marutiprodcdn.azureedge.net/-/media/images/maruti/marutisuzuki/pages/2019/april/29-04ertiga_graphic.ashx?la=en&modified=20190430054900\n",
      "IOError on an image...trying next one... Error: The read operation timed out\n",
      "Image URL: https://images.newindianexpress.com/uploads/user/imagelibrary/2019/7/29/w900X450/Maruti_Suzuki_Ertiga.jpg\n",
      "Completed Image ====> 9.Maruti_Suzuki_Ertiga.jpg\n",
      "Image URL: https://images-na.ssl-images-amazon.com/images/I/51LsxI%2Bxo2L._SL1072_.jpg\n",
      "Completed Image ====> 10.51LsxI%2Bxo2L._SL1072_.jpg\n",
      "Image URL: https://i.ndtvimg.com/i/2017-02/maruti-suzuki-ertiga-limited-edition_827x289_51487169773.jpg\n",
      "Completed Image ====> 11.maruti-suzuki-ertiga-limited-edition_827x289_51487169773.jpg\n",
      "Image URL: https://image3.mouthshut.com/images/imagesp/925936524s.jpg\n",
      "Completed Image ====> 12.925936524s.jpg\n",
      "Image URL: https://cdn3.droom.in/photos/listing/2018-09-29/aff160dd644520a3115cf78877ee2c09_extra_large.jpg\n",
      "Completed Image ====> 13.aff160dd644520a3115cf78877ee2c09_extra_large.jpg\n",
      "Image URL: https://www.speedmasti.com/wp-content/uploads/2015/01/maruti-suzuki-ertiga.jpg\n",
      "Completed Image ====> 14.maruti-suzuki-ertiga.jpg\n",
      "Image URL: https://images-na.ssl-images-amazon.com/images/I/511tcFna1rL._SL1012_.jpg\n",
      "Completed Image ====> 15.511tcFna1rL._SL1012_.jpg\n",
      "Image URL: https://teja8.kuikr.com/images/QuikrCar/images/new_cars/Maruti-Suzuki_Ertiga/1.jpg\n",
      "Completed Image ====> 16.1.jpg\n",
      "Image URL: https://dstarnews.com/wp-content/uploads/2018/11/Maruti-Suzuki-Ertiga-Price-Colors-Performance-Specifications-700x350.jpg\n",
      "Completed Image ====> 17.Maruti-Suzuki-Ertiga-Price-Colors-Performance-Specifications-700x350.jpg\n",
      "Image URL: https://apollo-singapore.akamaized.net/v1/files/8pziqwef2vfx2-IN/image;s=850x0\n",
      "Wrong image format returned. Skipping...\n",
      "Image URL: https://cdn.autoportal.com/img/news/15399/main/05da77a2661e01cdb48c65fe4dee830c/main_cropped.jpg\n",
      "Completed Image ====> 18.main_cropped.jpg\n",
      "Image URL: https://www.zamroo.com/images/product-images/cars-other-vehicles/suvs-vans/medium/20161202055023-57297.jpeg\n",
      "URLError on an image...trying next one... Error: HTTP Error 404: Not Found\n",
      "Image URL: https://s3-ap-southeast-1.amazonaws.com/staticin.izmocars.com/toolkit/IN/2018/18marutisuzuki/18marutisuzukiertiga/18marutisuzukiertiga_pixGallery/_gallerypix/marutisuzuki_ertiga_concept.jpg\n",
      "Completed Image ====> 19.marutisuzuki_ertiga_concept.jpg\n",
      "Image URL: https://chandigarhmetro.com/wp-content/uploads/2018/01/ertiga-2018-facelift-launch-date-price.jpg\n",
      "IOError on an image...trying next one... Error: The read operation timed out\n",
      "Image URL: https://media.mahindrafirstchoice.com/live_web_images/usedcarsimg/mfc/485/330805/right_side_view-20190806182250.jpeg\n",
      "Wrong image format returned. Skipping...\n",
      "Image URL: https://mc.webpcache.epapr.in/discover.php?in=https://mcmscache.epapr.in/post_images/website_300/post_13749805/thumb.jpg\n",
      "Wrong image format returned. Skipping...\n",
      "Image URL: https://cdn3.droom.in/photos/listing/2019-12-07/f023637f9001d77bd3e7dac48671f7c8_extra_large.jpg\n",
      "Completed Image ====> 20.f023637f9001d77bd3e7dac48671f7c8_extra_large.jpg\n",
      "Image URL: http://dmgupcwbwy0wl.cloudfront.net/system/images/000/045/539/15bb35d0d31c64e653988b30ecda2725/original/Maruti-Suzuki-Ertoga.jpg?1551010853\n",
      "Completed Image ====> 21.Maruti-Suzuki-Ertoga.jpg\n",
      "Image URL: https://www.autovista.in/assets/img/blog/ertiga-specification.jpg\n",
      "Completed Image ====> 22.ertiga-specification.jpg\n",
      "Image URL: https://raigarhtaxi.in/wp-content/uploads/2017/11/2010-Model-Maruti-Suzuki-Ertiga-170000km-1024x434.jpeg\n",
      "Wrong image format returned. Skipping...\n",
      "Image URL: https://uploads.carandbike.com/used/38658/large/maruti-suzuki-ertiga-rear-left-rim.jpg?v=1569607795\n",
      "Completed Image ====> 23.maruti-suzuki-ertiga-rear-left-rim.jpg\n",
      "Image URL: http://assets-news-bcdn-ll.dailyhunt.in/cmd/resize/400x400_60/fetchdata13/images/ad/7c/6e/ad7c6efbbdf0994a889b6c4a769a3ecc.jpg\n",
      "IOError on an image...trying next one... Error: timed out\n",
      "Image URL: https://www.motoroids.com/wp-content/uploads/2018/11/New-2019-Maruti-Suzuki-Ertiga-in-motion25-600x283.jpg\n",
      "Completed Image ====> 24.New-2019-Maruti-Suzuki-Ertiga-in-motion25-600x283.jpg\n",
      "Image URL: http://www.khivrajmotors.com/assets/images/cars/ertiga.jpg\n",
      "Completed Image ====> 25.ertiga.jpg\n",
      "Image URL: https://www.carblogindia.com/wp-content/uploads/2019/08/Renault-Triber-vs-Maruti-Suzuki-Ertiga-1024x512.jpg\n",
      "Completed Image ====> 26.Renault-Triber-vs-Maruti-Suzuki-Ertiga-1024x512.jpg\n",
      "Image URL: https://apollo-singapore.akamaized.net/v1/files/30qslc2qswct3-IN/image;s=850x0\n",
      "IOError on an image...trying next one... Error: The read operation timed out\n",
      "Image URL: https://img.indianautosblog.com/2018/04/2018-Suzuki-Ertiga-2018-Maruti-Ertiga-interior-dashboard-featured-image.jpg\n",
      "Completed Image ====> 27.2018-Suzuki-Ertiga-2018-Maruti-Ertiga-interior-dashboard-featured-image.jpg\n",
      "Image URL: http://navnitmaruti.com/images/Ertiga-Limited-Edition.jpg\n",
      "Completed Image ====> 28.Ertiga-Limited-Edition.jpg\n",
      "Image URL: https://www.autorounders.com/wp-content/uploads/2018/08/60-Maruti-Suzuki-Ertiga-Interior-Modification_files.jpg\n",
      "IOError on an image...trying next one... Error: The read operation timed out\n",
      "Image URL: https://shreyacars.com/wp-content/uploads/2020/01/IMG-20200116-WA0024-1279x608.jpg\n",
      "IOError on an image...trying next one... Error: The read operation timed out\n",
      "Image URL: https://rukminim1.flixcart.com/image/832/832/jk4bngw0/car-mat/u/3/y/beige-foot-mat-for-ertiga-beige-foot-mat-for-ertiga-lagotto-original-imaf7g5qg28tshau.jpeg?q=70\n",
      "Wrong image format returned. Skipping...\n",
      "Image URL: https://img.favpng.com/17/4/15/suzuki-ertiga-car-maruti-suzuki-swift-png-favpng-b3WuPS9SrkMsL2Xx6EKbGLD2A.jpg\n",
      "IOError on an image...trying next one... Error: The read operation timed out\n",
      "Image URL: https://cdn7.newsnation.in/images/2018/09/09/Untitled-521714319.jpg\n",
      "Completed Image ====> 29.Untitled-521714319.jpg\n",
      "Image URL: https://www.autovista.in/assets/img/blog/New_Maruti_Suzuki_Ertiga.jpg\n",
      "Completed Image ====> 30.New_Maruti_Suzuki_Ertiga.jpg\n",
      "Image URL: https://www.adkwi.com/assets/img/item/Qbs-adkwi-2015-Maruti-Suzuki-Ertiga-diesel-74000-Kms-0.webp\n",
      "Wrong image format returned. Skipping...\n",
      "Image URL: https://www.motoroids.com/wp-content/uploads/2018/11/New-2019-Maruti-Suzuki-Ertiga-Side-View3.jpg\n",
      "Completed Image ====> 31.New-2019-Maruti-Suzuki-Ertiga-Side-View3.jpg\n",
      "Image URL: https://banner2.cleanpng.com/20180402/eeq/kisspng-maruti-suzuki-ertiga-vxi-cng-maruti-suzuki-ertiga-gudi-padwa-5ac1efd6d9a0a3.7033284415226592868914.jpg\n",
      "IOError on an image...trying next one... Error: The read operation timed out\n",
      "Image URL: http://premsonsmotor.com/wp-content/uploads/2018/09/Blog-04-09.jpg\n"
     ]
    },
    {
     "name": "stdout",
     "output_type": "stream",
     "text": [
      "Completed Image ====> 32.Blog-04-09.jpg\n",
      "Image URL: http://www.talkingtrendo.com/wp-content/uploads/2013/10/ford-eco-sport-vs-maruti-suzuki-ertiga.jpg\n",
      "Completed Image ====> 33.ford-eco-sport-vs-maruti-suzuki-ertiga.jpg\n",
      "Image URL: https://img.indianautosblog.com/2018/04/2018-Suzuki-Ertiga-2018-Maruti-Ertiga-official-video-featured-image.jpg\n",
      "Completed Image ====> 34.2018-Suzuki-Ertiga-2018-Maruti-Ertiga-official-video-featured-image.jpg\n",
      "Image URL: https://bharathautos.com/wp-content/uploads/2019/05/maruti-suzuki-ertiga-15l-diesel-engine-launched.jpg\n",
      "Completed Image ====> 35.maruti-suzuki-ertiga-15l-diesel-engine-launched.jpg\n",
      "Image URL: https://cdn2.droom.in/photos/listing/2019-12-22/cca78fd4dbc7ba09b789a5fe9c9d2d0b_extra_large.jpg\n",
      "Completed Image ====> 36.cca78fd4dbc7ba09b789a5fe9c9d2d0b_extra_large.jpg\n",
      "Image URL: https://www.autobics.com/wp-content/uploads/2017/02/Maruti-Suzuki-Ertiga-Limited-Edition-2017-Exquisite-Maroon.jpg\n",
      "Completed Image ====> 37.Maruti-Suzuki-Ertiga-Limited-Edition-2017-Exquisite-Maroon.jpg\n",
      "Image URL: http://www.getscar.com/luxscar_app/app_uploads/2732maruti-suzuki-new-ertiga-exterior-side-view.jpg\n",
      "Completed Image ====> 38.2732maruti-suzuki-new-ertiga-exterior-side-view.jpg\n",
      "Image URL: https://mpng.pngfly.com/20180611/csu/kisspng-compact-van-minivan-car-suzuki-maruti-suzuki-ertiga-5b1e288e58f848.0303305715287031183644.jpg\n",
      "Completed Image ====> 39.kisspng-compact-van-minivan-car-suzuki-maruti-suzuki-ertiga-5b1e288e58f848.0303305715287031183644.jpg\n",
      "Image URL: https://s3-ap-southeast-1.amazonaws.com/assetsin.izmocars.com/pagebuilder/marutisuzukiertiga163931852th.jpeg\n",
      "Wrong image format returned. Skipping...\n",
      "Image URL: http://www.samacharnama.com/wp-content/uploads/2018/03/2.maruti-suzuki-ertiga.jpg\n",
      "Completed Image ====> 40.2.maruti-suzuki-ertiga.jpg\n",
      "Image URL: https://www.carz4sale.in/photos-2/153/15340/maruti-suzuki-ertiga-vxi-cng-1569567086.jpg\n",
      "Completed Image ====> 41.maruti-suzuki-ertiga-vxi-cng-1569567086.jpg\n",
      "Image URL: https://media.zigcdn.com/media/content/2018/Nov/2018_maruti_suzuki_ertiga_launched_8_720x540.jpg\n",
      "IOError on an image...trying next one... Error: The read operation timed out\n",
      "Image URL: https://rukminim1.flixcart.com/image/704/704/jxapua80/sun-shade/z/g/8/ss-10-coozo-original-imafhs5t4nn7hdgx.jpeg?q=70\n",
      "Wrong image format returned. Skipping...\n",
      "Image URL: https://carblogindia.com/wp-content/uploads/2015/07/maruti-ertiga-paseo-limited-edition-colour-2-720x299.jpg\n",
      "Completed Image ====> 42.maruti-ertiga-paseo-limited-edition-colour-2-720x299.jpg\n",
      "Image URL: https://imgd6.aeplcdn.com/0x0/dealerwebsites/9245/ModelFeature/1418.jpg?v=20170110165951960\n",
      "Completed Image ====> 43.1418.jpg\n",
      "Image URL: https://apollo-singapore.akamaized.net/v1/files/jgbyjwdrffj42-IN/image\n",
      "Wrong image format returned. Skipping...\n",
      "Image URL: https://img.favpng.com/10/6/8/maruti-suzuki-car-maruti-suzuki-suzuki-ertiga-png-favpng-dxYjV1cm8F3EVZ7tY4wQ21rPT.jpg\n",
      "Completed Image ====> 44.maruti-suzuki-car-maruti-suzuki-suzuki-ertiga-png-favpng-dxYjV1cm8F3EVZ7tY4wQ21rPT.jpg\n",
      "Image URL: https://news.maxabout.com/wp-content/uploads/2018/09/2019-Maruti-Suzuki-Ertiga-Launch-India-3.jpg\n",
      "Completed Image ====> 45.2019-Maruti-Suzuki-Ertiga-Launch-India-3.jpg\n",
      "Image URL: https://cdn.autoportal.com/img/news/16108/main/9b48fbdd6ffaddbde6ede1554042f246/thumbnail_cropped.jpg\n",
      "Completed Image ====> 46.thumbnail_cropped.jpg\n",
      "Image URL: https://www.nicepng.com/png/detail/244-2442694_tavera-car-taxi-service-maruti-suzuki-ertiga-png.png\n",
      "Wrong image format returned. Skipping...\n",
      "Image URL: http://www.flagindiaholidays.com/wp-content/uploads/2017/09/ban4-1100x349.jpg\n",
      "Completed Image ====> 47.ban4-1100x349.jpg\n",
      "Image URL: https://cdn.imgbin.com/8/5/0/imgbin-suzuki-ertiga-maruti-suzuki-car-suzuki-ertiga-VmGFz605ZV5zRcFzxTaRDgbFe.jpg\n",
      "Completed Image ====> 48.imgbin-suzuki-ertiga-maruti-suzuki-car-suzuki-ertiga-VmGFz605ZV5zRcFzxTaRDgbFe.jpg\n",
      "Image URL: https://lookaside.fbsbx.com/lookaside/crawler/media/?media_id=447959399260710\n",
      "Wrong image format returned. Skipping...\n",
      "Image URL: https://cdn.zeebiz.com/sites/default/files/2018/05/12/38047-maruti-ertiga-official-website.jpg\n",
      "Completed Image ====> 49.38047-maruti-ertiga-official-website.jpg\n",
      "Image URL: http://www.samacharnama.com/wp-content/uploads/2018/07/image-of-maruti-suzuki-ertiga-new-image-leaked-know-details..3.jpg\n",
      "Completed Image ====> 50.image-of-maruti-suzuki-ertiga-new-image-leaked-know-details..3.jpg\n",
      "Image URL: https://cdn.autoportal.com/img/news/15862/main/48785e4cffa0217f1608d7a2bfec4a7a/main_cropped.jpg\n",
      "Completed Image ====> 51.main_cropped.jpg\n",
      "Image URL: https://teja8.kuikr.com/i6/20200107/2013-Maruti-Suzuki-Ertiga---29-700-kms-driven-in-Wanowrie-VB201705171774173-ak_LWBP2059161773-1578386197_lg.jpeg\n",
      "URLError on an image...trying next one... Error: <urlopen error _ssl.c:817: The handshake operation timed out>\n",
      "Image URL: https://cdni.autocarindia.com/Utils/ImageResizer.ashx?n=http%3A%2F%2Fcdni.autocarindia.com%2FNews%2FErtiga+Wireframe.JPG&w=862\n",
      "Wrong image format returned. Skipping...\n",
      "Image URL: https://banner2.cleanpng.com/20180526/kwl/kisspng-maruti-suzuki-ertiga-vxi-cng-car-maruti-suzuki-ert-5b09dc6dc620e6.1054578615273729098115.jpg\n",
      "Completed Image ====> 52.kisspng-maruti-suzuki-ertiga-vxi-cng-car-maruti-suzuki-ert-5b09dc6dc620e6.1054578615273729098115.jpg\n",
      "Image URL: http://assets-news-bcdn.dailyhunt.in/cmd/resize/400x400_60/fetchdata13/images/c6/c6/1a/c6c61adf763ce53c5edd171996f9b361.jpg\n",
      "Completed Image ====> 53.c6c61adf763ce53c5edd171996f9b361.jpg\n",
      "Image URL: http://thehansindia.com/assets/eriga.jpg\n",
      "Completed Image ====> 54.eriga.jpg\n",
      "Image URL: https://apollo-singapore.akamaized.net/v1/files/nk3hb2lzr9fu2-IN/image;s=850x0\n",
      "Wrong image format returned. Skipping...\n",
      "Image URL: https://c7.uihere.com/files/773/30/522/suzuki-ertiga-maruti-suzuki-swift-car-suzuki-ertiga.jpg\n",
      "Completed Image ====> 55.suzuki-ertiga-maruti-suzuki-swift-car-suzuki-ertiga.jpg\n",
      "Image URL: https://enews.rkfml.com/wp-content/uploads/2018/09/other-news.jpg\n",
      "Completed Image ====> 56.other-news.jpg\n",
      "Image URL: https://www.carz4sale.in/photos-2/141/14150/maruti-suzuki-ertiga-vxi-1565264550.jpg\n",
      "IOError on an image...trying next one... Error: The read operation timed out\n",
      "Image URL: https://www.autographix.com/media/wysiwyg/23-11-2018.jpg\n",
      "Completed Image ====> 57.23-11-2018.jpg\n",
      "Image URL: https://cdn-usedcars.autoportal.com/media/image/2492de0326c10b685cd261df15d9538d88f3ea8b/gallery_image/fadfed0b2893de364cdf665eb91827345ddbc25f.jpeg\n",
      "Wrong image format returned. Skipping...\n",
      "Image URL: https://steelguru.com/uploads/news/maruti-suzuki-ertiga-facelift-launch-in-indonesia-on-august-20th_73653.jpg\n",
      "Completed Image ====> 58.maruti-suzuki-ertiga-facelift-launch-in-indonesia-on-august-20th_73653.jpg\n",
      "Image URL: http://wheelrush.com/wp-content/uploads/cache/2015/09/Maruti-Suzuki-New-Ertiga-Front-800x400.jpg\n",
      "Completed Image ====> 59.Maruti-Suzuki-New-Ertiga-Front-800x400.jpg\n",
      "Image URL: https://cdn.autoportal.com/img/news/15928/main/898446f7e539484b7492b384b5696899/thumbnail_cropped.jpg\n",
      "Completed Image ====> 60.thumbnail_cropped.jpg\n",
      "Image URL: http://www.myluckycar.in/wp-content/uploads/2019/08/x2-e1566559461905-1160x500.jpg\n",
      "Completed Image ====> 61.x2-e1566559461905-1160x500.jpg\n",
      "Image URL: https://www.adkwi.com/assets/img/item/Qbs-adkwi-2015-Maruti-Suzuki-Ertiga-diesel-74000-Kms-2.webp\n",
      "IOError on an image...trying next one... Error: The read operation timed out\n",
      "Image URL: https://data1.ibtimes.co.in/cache-img-0-450/en/full/704201/1543323295_2018-maruti-suzuki-ertiga.jpg\n",
      "Completed Image ====> 62.1543323295_2018-maruti-suzuki-ertiga.jpg\n",
      "Image URL: https://auto.economictimes.indiatimes.com/files/retail_files/innova-crysta-1504179842-prod-var.jpg\n",
      "IOError on an image...trying next one... Error: The read operation timed out\n",
      "Image URL: https://media.mahindrafirstchoice.com/live_web_images/usedcarsimg/mfc/234/318337/wheels_tyres-20190709124738.jpeg\n",
      "Wrong image format returned. Skipping...\n",
      "Image URL: https://www.cartoq.com/wp-content/uploads/2012/04/ertiga-vs-Innova.jpg\n",
      "Completed Image ====> 63.ertiga-vs-Innova.jpg\n",
      "Image URL: http://www.carsalesindia.com/articles/Innova-vs-Ertiga/Ertiga-Vs-Innova.jpg\n",
      "Completed Image ====> 64.Ertiga-Vs-Innova.jpg\n",
      "Image URL: https://www.automotiveml.com/sites/default/files/styles/thumbnail_blog_single_post_750/public/Maruti%20Suzuki%20Ertiga%20satisfies%20more%20than%202%2C75%2C000%20customers%20in%20India%20-%20Automotive%20Manufacturers%20Pvt%20Ltd.jpg?itok=11-ozj4V\n"
     ]
    },
    {
     "name": "stdout",
     "output_type": "stream",
     "text": [
      "Completed Image ====> 65.Maruti%20Suzuki%20Ertiga%20satisfies%20more%20than%202%2C75%2C000%20customers%20in%20India%20-%20Automotive%20Manufacturers%20Pvt%20Ltd.jpg\n",
      "Image URL: http://kolkatadailynews.com/wp-content/uploads/2018/08/10720/20180818123259_Ertiga-front-stati-872x425.jpg\n",
      "Completed Image ====> 66.20180818123259_Ertiga-front-stati-872x425.jpg\n",
      "Image URL: https://4.bp.blogspot.com/-czd48xqNQ_Q/VggVBO4QOUI/AAAAAAAAAO8/T9ka0GGVebU/s1600/tuv300_vs_ertiga_comparison_price_features_mileage.jpg\n",
      "Completed Image ====> 67.tuv300_vs_ertiga_comparison_price_features_mileage.jpg\n",
      "Image URL: https://www.team-bhp.com/sites/default/files/Paseo1.jpg\n",
      "Completed Image ====> 68.Paseo1.jpg\n",
      "Image URL: http://www.gaddidekho.com/wp-content/uploads/2015/09/Maruti-Suzuki-Ertiga-Hybrid-Facelift-Side-View-Image-GD123.jpg\n",
      "Completed Image ====> 69.Maruti-Suzuki-Ertiga-Hybrid-Facelift-Side-View-Image-GD123.jpg\n",
      "\n",
      "\n",
      "Unfortunately all 100 could not be downloaded because some images were not downloadable. 69 is all we got for this search filter!\n",
      "\n",
      "Errors: 31\n",
      "\n",
      "\n"
     ]
    }
   ],
   "source": [
    "# Driver Code \n",
    "for query in search_queries: \n",
    "    images=downloadimages(query)  \n",
    "    print()  "
   ]
  },
  {
   "cell_type": "markdown",
   "metadata": {},
   "source": [
    "###### * Working with Downloaded Images "
   ]
  },
  {
   "cell_type": "code",
   "execution_count": 79,
   "metadata": {},
   "outputs": [],
   "source": [
    "import pandas as pd\n",
    "import os"
   ]
  },
  {
   "cell_type": "code",
   "execution_count": 80,
   "metadata": {},
   "outputs": [],
   "source": [
    "# reading the image name from the downloaded images \n",
    "# path is the location where images are downloaded\n",
    "# image_name is an emplty list for appending the name of images\n",
    "# this fn returning the image name from directory of images\n",
    "def readfile(path):\n",
    "    image_name=[] \n",
    "    for file in os.listdir(path):\n",
    "#     print(file)\n",
    "        image_name.append(file)\n",
    "#     print(image_name)\n",
    "    return image_name"
   ]
  },
  {
   "cell_type": "code",
   "execution_count": 81,
   "metadata": {},
   "outputs": [],
   "source": [
    "# this fn is returning the dataframe \n",
    "# this dataframe is consisting two columns vehicle Image Name and vehicle Name\n",
    "def dataframe(image_name_list,value):\n",
    "    image_name=pd.DataFrame(image_name_list,columns =['Vehicle Image Name'])\n",
    "    image_name['vehicle Name']=value\n",
    "    return image_name"
   ]
  },
  {
   "cell_type": "code",
   "execution_count": 82,
   "metadata": {},
   "outputs": [
    {
     "name": "stdout",
     "output_type": "stream",
     "text": [
      "71\n"
     ]
    },
    {
     "data": {
      "text/html": [
       "<div>\n",
       "<style scoped>\n",
       "    .dataframe tbody tr th:only-of-type {\n",
       "        vertical-align: middle;\n",
       "    }\n",
       "\n",
       "    .dataframe tbody tr th {\n",
       "        vertical-align: top;\n",
       "    }\n",
       "\n",
       "    .dataframe thead th {\n",
       "        text-align: right;\n",
       "    }\n",
       "</style>\n",
       "<table border=\"1\" class=\"dataframe\">\n",
       "  <thead>\n",
       "    <tr style=\"text-align: right;\">\n",
       "      <th></th>\n",
       "      <th>Vehicle Image Name</th>\n",
       "      <th>vehicle Name</th>\n",
       "    </tr>\n",
       "  </thead>\n",
       "  <tbody>\n",
       "    <tr>\n",
       "      <th>0</th>\n",
       "      <td>1.https%3A%2F%2Fhypebeast.com%2Fimage%2F2019%2...</td>\n",
       "      <td>Audi</td>\n",
       "    </tr>\n",
       "    <tr>\n",
       "      <th>1</th>\n",
       "      <td>10.2020-audi-r8-decennium-101-1555098349.jpg</td>\n",
       "      <td>Audi</td>\n",
       "    </tr>\n",
       "  </tbody>\n",
       "</table>\n",
       "</div>"
      ],
      "text/plain": [
       "                                  Vehicle Image Name vehicle Name\n",
       "0  1.https%3A%2F%2Fhypebeast.com%2Fimage%2F2019%2...         Audi\n",
       "1       10.2020-audi-r8-decennium-101-1555098349.jpg         Audi"
      ]
     },
     "execution_count": 82,
     "metadata": {},
     "output_type": "execute_result"
    }
   ],
   "source": [
    "# For Audi R8 images\n",
    "image_name_AudiR8=readfile(\"C:/Users/hp/Practice_Code/WebScrapping Notebooks/downloads/Audi R8\")\n",
    "print(len(image_name_AudiR8))\n",
    "\n",
    "image_name_AudiR8=dataframe(image_name_AudiR8,'Audi')\n",
    "image_name_AudiR8.head(2)"
   ]
  },
  {
   "cell_type": "code",
   "execution_count": 83,
   "metadata": {},
   "outputs": [
    {
     "name": "stdout",
     "output_type": "stream",
     "text": [
      "69\n"
     ]
    },
    {
     "data": {
      "text/html": [
       "<div>\n",
       "<style scoped>\n",
       "    .dataframe tbody tr th:only-of-type {\n",
       "        vertical-align: middle;\n",
       "    }\n",
       "\n",
       "    .dataframe tbody tr th {\n",
       "        vertical-align: top;\n",
       "    }\n",
       "\n",
       "    .dataframe thead th {\n",
       "        text-align: right;\n",
       "    }\n",
       "</style>\n",
       "<table border=\"1\" class=\"dataframe\">\n",
       "  <thead>\n",
       "    <tr style=\"text-align: right;\">\n",
       "      <th></th>\n",
       "      <th>Vehicle Image Name</th>\n",
       "      <th>vehicle Name</th>\n",
       "    </tr>\n",
       "  </thead>\n",
       "  <tbody>\n",
       "    <tr>\n",
       "      <th>0</th>\n",
       "      <td>1.ertiga-1000.jpg</td>\n",
       "      <td>Ertiga</td>\n",
       "    </tr>\n",
       "    <tr>\n",
       "      <th>1</th>\n",
       "      <td>10.51LsxI%2Bxo2L._SL1072_.jpg</td>\n",
       "      <td>Ertiga</td>\n",
       "    </tr>\n",
       "  </tbody>\n",
       "</table>\n",
       "</div>"
      ],
      "text/plain": [
       "              Vehicle Image Name vehicle Name\n",
       "0              1.ertiga-1000.jpg       Ertiga\n",
       "1  10.51LsxI%2Bxo2L._SL1072_.jpg       Ertiga"
      ]
     },
     "execution_count": 83,
     "metadata": {},
     "output_type": "execute_result"
    }
   ],
   "source": [
    "# For Maruti Suzuki Ertiga images\n",
    "image_name_Ertiga=readfile(\"C:/Users/hp/Practice_Code/WebScrapping Notebooks/downloads/Maruti Suzuki Ertiga\")\n",
    "print(len(image_name_Ertiga))\n",
    "\n",
    "image_name_Ertiga=dataframe(image_name_Ertiga,'Ertiga')\n",
    "image_name_Ertiga.head(2)"
   ]
  },
  {
   "cell_type": "code",
   "execution_count": 84,
   "metadata": {
    "scrolled": true
   },
   "outputs": [
    {
     "name": "stdout",
     "output_type": "stream",
     "text": [
      "77\n"
     ]
    },
    {
     "data": {
      "text/html": [
       "<div>\n",
       "<style scoped>\n",
       "    .dataframe tbody tr th:only-of-type {\n",
       "        vertical-align: middle;\n",
       "    }\n",
       "\n",
       "    .dataframe tbody tr th {\n",
       "        vertical-align: top;\n",
       "    }\n",
       "\n",
       "    .dataframe thead th {\n",
       "        text-align: right;\n",
       "    }\n",
       "</style>\n",
       "<table border=\"1\" class=\"dataframe\">\n",
       "  <thead>\n",
       "    <tr style=\"text-align: right;\">\n",
       "      <th></th>\n",
       "      <th>Vehicle Image Name</th>\n",
       "      <th>vehicle Name</th>\n",
       "    </tr>\n",
       "  </thead>\n",
       "  <tbody>\n",
       "    <tr>\n",
       "      <th>0</th>\n",
       "      <td>1.A200435_x750.jpg</td>\n",
       "      <td>Audi</td>\n",
       "    </tr>\n",
       "    <tr>\n",
       "      <th>1</th>\n",
       "      <td>10.1200px-2018_Audi_A4_Sport_TDi_Quattro_S-A_2...</td>\n",
       "      <td>Audi</td>\n",
       "    </tr>\n",
       "  </tbody>\n",
       "</table>\n",
       "</div>"
      ],
      "text/plain": [
       "                                  Vehicle Image Name vehicle Name\n",
       "0                                 1.A200435_x750.jpg         Audi\n",
       "1  10.1200px-2018_Audi_A4_Sport_TDi_Quattro_S-A_2...         Audi"
      ]
     },
     "execution_count": 84,
     "metadata": {},
     "output_type": "execute_result"
    }
   ],
   "source": [
    "# For Audi images\n",
    "image_name_Audi=readfile(\"C:/Users/hp/Practice_Code/WebScrapping Notebooks/downloads/Audi\")\n",
    "print(len(image_name_Audi))\n",
    "\n",
    "image_name_Audi=dataframe(image_name_Audi,'Audi')\n",
    "image_name_Audi.head(2)"
   ]
  },
  {
   "cell_type": "code",
   "execution_count": 99,
   "metadata": {},
   "outputs": [
    {
     "name": "stdout",
     "output_type": "stream",
     "text": [
      "257\n"
     ]
    },
    {
     "data": {
      "text/html": [
       "<div>\n",
       "<style scoped>\n",
       "    .dataframe tbody tr th:only-of-type {\n",
       "        vertical-align: middle;\n",
       "    }\n",
       "\n",
       "    .dataframe tbody tr th {\n",
       "        vertical-align: top;\n",
       "    }\n",
       "\n",
       "    .dataframe thead th {\n",
       "        text-align: right;\n",
       "    }\n",
       "</style>\n",
       "<table border=\"1\" class=\"dataframe\">\n",
       "  <thead>\n",
       "    <tr style=\"text-align: right;\">\n",
       "      <th></th>\n",
       "      <th>Vehicle Image Name</th>\n",
       "      <th>vehicle Name</th>\n",
       "    </tr>\n",
       "  </thead>\n",
       "  <tbody>\n",
       "    <tr>\n",
       "      <th>0</th>\n",
       "      <td>149105744.jpg</td>\n",
       "      <td>BMW</td>\n",
       "    </tr>\n",
       "    <tr>\n",
       "      <th>1</th>\n",
       "      <td>149106035.thumb.jpg</td>\n",
       "      <td>BMW</td>\n",
       "    </tr>\n",
       "  </tbody>\n",
       "</table>\n",
       "</div>"
      ],
      "text/plain": [
       "    Vehicle Image Name vehicle Name\n",
       "0        149105744.jpg          BMW\n",
       "1  149106035.thumb.jpg          BMW"
      ]
     },
     "execution_count": 99,
     "metadata": {},
     "output_type": "execute_result"
    }
   ],
   "source": [
    "# For BMW images\n",
    "image_name_BMW=readfile(\"C:/Users/hp/Practice_Code/WebScrapping Notebooks/downloads/bmw10_ims/1\")\n",
    "print(len(image_name_BMW))\n",
    "\n",
    "image_name_BMW=dataframe(image_name_BMW,'BMW')\n",
    "image_name_BMW.head(2)"
   ]
  },
  {
   "cell_type": "code",
   "execution_count": 100,
   "metadata": {},
   "outputs": [
    {
     "name": "stdout",
     "output_type": "stream",
     "text": [
      "83\n"
     ]
    },
    {
     "data": {
      "text/html": [
       "<div>\n",
       "<style scoped>\n",
       "    .dataframe tbody tr th:only-of-type {\n",
       "        vertical-align: middle;\n",
       "    }\n",
       "\n",
       "    .dataframe tbody tr th {\n",
       "        vertical-align: top;\n",
       "    }\n",
       "\n",
       "    .dataframe thead th {\n",
       "        text-align: right;\n",
       "    }\n",
       "</style>\n",
       "<table border=\"1\" class=\"dataframe\">\n",
       "  <thead>\n",
       "    <tr style=\"text-align: right;\">\n",
       "      <th></th>\n",
       "      <th>Vehicle Image Name</th>\n",
       "      <th>vehicle Name</th>\n",
       "    </tr>\n",
       "  </thead>\n",
       "  <tbody>\n",
       "    <tr>\n",
       "      <th>0</th>\n",
       "      <td>1.hyundai-creta-2018-right_600x300.jpg</td>\n",
       "      <td>Hyundai Creta</td>\n",
       "    </tr>\n",
       "    <tr>\n",
       "      <th>1</th>\n",
       "      <td>10.main_cropped.jpg</td>\n",
       "      <td>Hyundai Creta</td>\n",
       "    </tr>\n",
       "  </tbody>\n",
       "</table>\n",
       "</div>"
      ],
      "text/plain": [
       "                       Vehicle Image Name   vehicle Name\n",
       "0  1.hyundai-creta-2018-right_600x300.jpg  Hyundai Creta\n",
       "1                     10.main_cropped.jpg  Hyundai Creta"
      ]
     },
     "execution_count": 100,
     "metadata": {},
     "output_type": "execute_result"
    }
   ],
   "source": [
    "# For Hyundai Creta images\n",
    "image_name_Hyundai_Creta=readfile(\"C:/Users/hp/Practice_Code/WebScrapping Notebooks/downloads/Hyundai Creta\")\n",
    "print(len(image_name_Hyundai_Creta))\n",
    "\n",
    "image_name_Hyundai_Creta=dataframe(image_name_Hyundai_Creta,'Hyundai Creta')\n",
    "image_name_Hyundai_Creta.head(2)"
   ]
  },
  {
   "cell_type": "code",
   "execution_count": 101,
   "metadata": {},
   "outputs": [
    {
     "name": "stdout",
     "output_type": "stream",
     "text": [
      "85\n"
     ]
    },
    {
     "data": {
      "text/html": [
       "<div>\n",
       "<style scoped>\n",
       "    .dataframe tbody tr th:only-of-type {\n",
       "        vertical-align: middle;\n",
       "    }\n",
       "\n",
       "    .dataframe tbody tr th {\n",
       "        vertical-align: top;\n",
       "    }\n",
       "\n",
       "    .dataframe thead th {\n",
       "        text-align: right;\n",
       "    }\n",
       "</style>\n",
       "<table border=\"1\" class=\"dataframe\">\n",
       "  <thead>\n",
       "    <tr style=\"text-align: right;\">\n",
       "      <th></th>\n",
       "      <th>Vehicle Image Name</th>\n",
       "      <th>vehicle Name</th>\n",
       "    </tr>\n",
       "  </thead>\n",
       "  <tbody>\n",
       "    <tr>\n",
       "      <th>0</th>\n",
       "      <td>1.2018-Hyundai-Elite-i20-Review-1.jpg</td>\n",
       "      <td>Hyundai Elite i20</td>\n",
       "    </tr>\n",
       "    <tr>\n",
       "      <th>1</th>\n",
       "      <td>10.main_cropped.jpg</td>\n",
       "      <td>Hyundai Elite i20</td>\n",
       "    </tr>\n",
       "  </tbody>\n",
       "</table>\n",
       "</div>"
      ],
      "text/plain": [
       "                      Vehicle Image Name       vehicle Name\n",
       "0  1.2018-Hyundai-Elite-i20-Review-1.jpg  Hyundai Elite i20\n",
       "1                    10.main_cropped.jpg  Hyundai Elite i20"
      ]
     },
     "execution_count": 101,
     "metadata": {},
     "output_type": "execute_result"
    }
   ],
   "source": [
    "# For Hyundai Elite i20 images\n",
    "image_name_Hyundai_Elite=readfile(\"C:/Users/hp/Practice_Code/WebScrapping Notebooks/downloads/Hyundai Elite i20\")\n",
    "print(len(image_name_Hyundai_Elite))\n",
    "\n",
    "image_name_Hyundai_Elite=dataframe(image_name_Hyundai_Elite,'Hyundai Elite i20')\n",
    "image_name_Hyundai_Elite.head(2)"
   ]
  },
  {
   "cell_type": "code",
   "execution_count": 102,
   "metadata": {},
   "outputs": [
    {
     "name": "stdout",
     "output_type": "stream",
     "text": [
      "67\n"
     ]
    },
    {
     "data": {
      "text/html": [
       "<div>\n",
       "<style scoped>\n",
       "    .dataframe tbody tr th:only-of-type {\n",
       "        vertical-align: middle;\n",
       "    }\n",
       "\n",
       "    .dataframe tbody tr th {\n",
       "        vertical-align: top;\n",
       "    }\n",
       "\n",
       "    .dataframe thead th {\n",
       "        text-align: right;\n",
       "    }\n",
       "</style>\n",
       "<table border=\"1\" class=\"dataframe\">\n",
       "  <thead>\n",
       "    <tr style=\"text-align: right;\">\n",
       "      <th></th>\n",
       "      <th>Vehicle Image Name</th>\n",
       "      <th>vehicle Name</th>\n",
       "    </tr>\n",
       "  </thead>\n",
       "  <tbody>\n",
       "    <tr>\n",
       "      <th>0</th>\n",
       "      <td>1.83ca35203f8ae13b9db283ce1a0e3fa1.jpg</td>\n",
       "      <td>Maruti Suzuki Wagon R</td>\n",
       "    </tr>\n",
       "    <tr>\n",
       "      <th>1</th>\n",
       "      <td>10.suzuki-wagon-r-city-car-maruti-png-favpng-i...</td>\n",
       "      <td>Maruti Suzuki Wagon R</td>\n",
       "    </tr>\n",
       "  </tbody>\n",
       "</table>\n",
       "</div>"
      ],
      "text/plain": [
       "                                  Vehicle Image Name           vehicle Name\n",
       "0             1.83ca35203f8ae13b9db283ce1a0e3fa1.jpg  Maruti Suzuki Wagon R\n",
       "1  10.suzuki-wagon-r-city-car-maruti-png-favpng-i...  Maruti Suzuki Wagon R"
      ]
     },
     "execution_count": 102,
     "metadata": {},
     "output_type": "execute_result"
    }
   ],
   "source": [
    "# For Maruti Suzuki Wagon R images\n",
    "image_name_wagonR=readfile(\"C:/Users/hp/Practice_Code/WebScrapping Notebooks/downloads/Maruti Suzuki Wagon R\")\n",
    "print(len(image_name_wagonR))\n",
    "\n",
    "image_name_wagonR=dataframe(image_name_wagonR,'Maruti Suzuki Wagon R')\n",
    "image_name_wagonR.head(2)"
   ]
  },
  {
   "cell_type": "code",
   "execution_count": 103,
   "metadata": {},
   "outputs": [
    {
     "name": "stdout",
     "output_type": "stream",
     "text": [
      "77\n"
     ]
    },
    {
     "data": {
      "text/html": [
       "<div>\n",
       "<style scoped>\n",
       "    .dataframe tbody tr th:only-of-type {\n",
       "        vertical-align: middle;\n",
       "    }\n",
       "\n",
       "    .dataframe tbody tr th {\n",
       "        vertical-align: top;\n",
       "    }\n",
       "\n",
       "    .dataframe thead th {\n",
       "        text-align: right;\n",
       "    }\n",
       "</style>\n",
       "<table border=\"1\" class=\"dataframe\">\n",
       "  <thead>\n",
       "    <tr style=\"text-align: right;\">\n",
       "      <th></th>\n",
       "      <th>Vehicle Image Name</th>\n",
       "      <th>vehicle Name</th>\n",
       "    </tr>\n",
       "  </thead>\n",
       "  <tbody>\n",
       "    <tr>\n",
       "      <th>0</th>\n",
       "      <td>1.7f810441a7dec7d55b817e2f9c73d388_extra_large...</td>\n",
       "      <td>Maruti Suzuki Dzire</td>\n",
       "    </tr>\n",
       "    <tr>\n",
       "      <th>1</th>\n",
       "      <td>10.maruti-suzuki-swift-dzire-diesel-zdi-640.jpg</td>\n",
       "      <td>Maruti Suzuki Dzire</td>\n",
       "    </tr>\n",
       "  </tbody>\n",
       "</table>\n",
       "</div>"
      ],
      "text/plain": [
       "                                  Vehicle Image Name         vehicle Name\n",
       "0  1.7f810441a7dec7d55b817e2f9c73d388_extra_large...  Maruti Suzuki Dzire\n",
       "1    10.maruti-suzuki-swift-dzire-diesel-zdi-640.jpg  Maruti Suzuki Dzire"
      ]
     },
     "execution_count": 103,
     "metadata": {},
     "output_type": "execute_result"
    }
   ],
   "source": [
    "# For Maruti Suzuki Dzire images\n",
    "image_name_Dzire=readfile(\"C:/Users/hp/Practice_Code/WebScrapping Notebooks/downloads/Maruti Suzuki Dzire\")\n",
    "print(len(image_name_Dzire))\n",
    "image_name_Dzire=dataframe(image_name_Dzire,'Maruti Suzuki Dzire')\n",
    "image_name_Dzire.head(2)"
   ]
  },
  {
   "cell_type": "code",
   "execution_count": 104,
   "metadata": {},
   "outputs": [
    {
     "name": "stdout",
     "output_type": "stream",
     "text": [
      "72\n",
      "(72, 2)\n"
     ]
    },
    {
     "data": {
      "text/html": [
       "<div>\n",
       "<style scoped>\n",
       "    .dataframe tbody tr th:only-of-type {\n",
       "        vertical-align: middle;\n",
       "    }\n",
       "\n",
       "    .dataframe tbody tr th {\n",
       "        vertical-align: top;\n",
       "    }\n",
       "\n",
       "    .dataframe thead th {\n",
       "        text-align: right;\n",
       "    }\n",
       "</style>\n",
       "<table border=\"1\" class=\"dataframe\">\n",
       "  <thead>\n",
       "    <tr style=\"text-align: right;\">\n",
       "      <th></th>\n",
       "      <th>Vehicle Image Name</th>\n",
       "      <th>vehicle Name</th>\n",
       "    </tr>\n",
       "  </thead>\n",
       "  <tbody>\n",
       "    <tr>\n",
       "      <th>0</th>\n",
       "      <td>1.alto-800_625x300_41389436528.jpg</td>\n",
       "      <td>Maruti Suzuki Alto</td>\n",
       "    </tr>\n",
       "    <tr>\n",
       "      <th>1</th>\n",
       "      <td>10.maruti-alto-k101.jpg</td>\n",
       "      <td>Maruti Suzuki Alto</td>\n",
       "    </tr>\n",
       "  </tbody>\n",
       "</table>\n",
       "</div>"
      ],
      "text/plain": [
       "                   Vehicle Image Name        vehicle Name\n",
       "0  1.alto-800_625x300_41389436528.jpg  Maruti Suzuki Alto\n",
       "1             10.maruti-alto-k101.jpg  Maruti Suzuki Alto"
      ]
     },
     "execution_count": 104,
     "metadata": {},
     "output_type": "execute_result"
    }
   ],
   "source": [
    "# For Maruti Suzuki Alto images\n",
    "image_name_alto=readfile(\"C:/Users/hp/Practice_Code/WebScrapping Notebooks/downloads/Maruti Suzuki Alto\")\n",
    "print(len(image_name_alto))\n",
    "image_name_alto=dataframe(image_name_alto,'Maruti Suzuki Alto')\n",
    "print(image_name_alto.shape)\n",
    "image_name_alto.head(2)"
   ]
  },
  {
   "cell_type": "code",
   "execution_count": 105,
   "metadata": {},
   "outputs": [
    {
     "name": "stdout",
     "output_type": "stream",
     "text": [
      "75\n",
      "(75, 2)\n"
     ]
    },
    {
     "data": {
      "text/html": [
       "<div>\n",
       "<style scoped>\n",
       "    .dataframe tbody tr th:only-of-type {\n",
       "        vertical-align: middle;\n",
       "    }\n",
       "\n",
       "    .dataframe tbody tr th {\n",
       "        vertical-align: top;\n",
       "    }\n",
       "\n",
       "    .dataframe thead th {\n",
       "        text-align: right;\n",
       "    }\n",
       "</style>\n",
       "<table border=\"1\" class=\"dataframe\">\n",
       "  <thead>\n",
       "    <tr style=\"text-align: right;\">\n",
       "      <th></th>\n",
       "      <th>Vehicle Image Name</th>\n",
       "      <th>vehicle Name</th>\n",
       "    </tr>\n",
       "  </thead>\n",
       "  <tbody>\n",
       "    <tr>\n",
       "      <th>0</th>\n",
       "      <td>1.AR_AA_CITY_360_DAY_V4_013.jpg</td>\n",
       "      <td>Honda City</td>\n",
       "    </tr>\n",
       "    <tr>\n",
       "      <th>1</th>\n",
       "      <td>10.AR_AA_CITY_360_DAY_V4_002.jpg</td>\n",
       "      <td>Honda City</td>\n",
       "    </tr>\n",
       "  </tbody>\n",
       "</table>\n",
       "</div>"
      ],
      "text/plain": [
       "                 Vehicle Image Name vehicle Name\n",
       "0   1.AR_AA_CITY_360_DAY_V4_013.jpg   Honda City\n",
       "1  10.AR_AA_CITY_360_DAY_V4_002.jpg   Honda City"
      ]
     },
     "execution_count": 105,
     "metadata": {},
     "output_type": "execute_result"
    }
   ],
   "source": [
    "# For Honda City images\n",
    "image_name_Honda_City=readfile(\"C:/Users/hp/Practice_Code/WebScrapping Notebooks/downloads/Honda City\")\n",
    "print(len(image_name_Honda_City))\n",
    "image_name_Honda_City=dataframe(image_name_Honda_City,'Honda City')\n",
    "print(image_name_Honda_City.shape)\n",
    "image_name_Honda_City.head(2)"
   ]
  },
  {
   "cell_type": "code",
   "execution_count": 106,
   "metadata": {},
   "outputs": [
    {
     "name": "stdout",
     "output_type": "stream",
     "text": [
      "74\n",
      "(74, 2)\n"
     ]
    },
    {
     "data": {
      "text/html": [
       "<div>\n",
       "<style scoped>\n",
       "    .dataframe tbody tr th:only-of-type {\n",
       "        vertical-align: middle;\n",
       "    }\n",
       "\n",
       "    .dataframe tbody tr th {\n",
       "        vertical-align: top;\n",
       "    }\n",
       "\n",
       "    .dataframe thead th {\n",
       "        text-align: right;\n",
       "    }\n",
       "</style>\n",
       "<table border=\"1\" class=\"dataframe\">\n",
       "  <thead>\n",
       "    <tr style=\"text-align: right;\">\n",
       "      <th></th>\n",
       "      <th>Vehicle Image Name</th>\n",
       "      <th>vehicle Name</th>\n",
       "    </tr>\n",
       "  </thead>\n",
       "  <tbody>\n",
       "    <tr>\n",
       "      <th>0</th>\n",
       "      <td>1.1abf9467b79ec5814febac4eca667249_extra_large...</td>\n",
       "      <td>Maruti Suzuki Swift</td>\n",
       "    </tr>\n",
       "    <tr>\n",
       "      <th>1</th>\n",
       "      <td>1.3490_file_59c605d4727a6.jpg</td>\n",
       "      <td>Maruti Suzuki Swift</td>\n",
       "    </tr>\n",
       "  </tbody>\n",
       "</table>\n",
       "</div>"
      ],
      "text/plain": [
       "                                  Vehicle Image Name         vehicle Name\n",
       "0  1.1abf9467b79ec5814febac4eca667249_extra_large...  Maruti Suzuki Swift\n",
       "1                      1.3490_file_59c605d4727a6.jpg  Maruti Suzuki Swift"
      ]
     },
     "execution_count": 106,
     "metadata": {},
     "output_type": "execute_result"
    }
   ],
   "source": [
    "# For Maruti Suzuki Swift images\n",
    "image_name_Swift=readfile(\"C:/Users/hp/Practice_Code/WebScrapping Notebooks/downloads/Maruti Suzuki Swift\")\n",
    "print(len(image_name_Swift))\n",
    "image_name_Swift=dataframe(image_name_Swift,'Maruti Suzuki Swift')\n",
    "print(image_name_Swift.shape)\n",
    "image_name_Swift.head(2)"
   ]
  },
  {
   "cell_type": "code",
   "execution_count": 107,
   "metadata": {},
   "outputs": [],
   "source": [
    "# Merging all kind of images into one csv file\n",
    "image_file=pd.concat([image_name_alto,image_name_Dzire, image_name_Honda_City,image_name_Swift,image_name_wagonR,\n",
    "                      image_name_Hyundai_Elite,image_name_Hyundai_Creta,image_name_BMW,image_name_Audi,image_name_AudiR8,\n",
    "                     image_name_Ertiga])"
   ]
  },
  {
   "cell_type": "code",
   "execution_count": 108,
   "metadata": {},
   "outputs": [
    {
     "name": "stdout",
     "output_type": "stream",
     "text": [
      "(1007, 2)\n"
     ]
    },
    {
     "data": {
      "text/html": [
       "<div>\n",
       "<style scoped>\n",
       "    .dataframe tbody tr th:only-of-type {\n",
       "        vertical-align: middle;\n",
       "    }\n",
       "\n",
       "    .dataframe tbody tr th {\n",
       "        vertical-align: top;\n",
       "    }\n",
       "\n",
       "    .dataframe thead th {\n",
       "        text-align: right;\n",
       "    }\n",
       "</style>\n",
       "<table border=\"1\" class=\"dataframe\">\n",
       "  <thead>\n",
       "    <tr style=\"text-align: right;\">\n",
       "      <th></th>\n",
       "      <th>Vehicle Image Name</th>\n",
       "      <th>vehicle Name</th>\n",
       "    </tr>\n",
       "  </thead>\n",
       "  <tbody>\n",
       "    <tr>\n",
       "      <th>64</th>\n",
       "      <td>68.Paseo1.jpg</td>\n",
       "      <td>Ertiga</td>\n",
       "    </tr>\n",
       "    <tr>\n",
       "      <th>65</th>\n",
       "      <td>69.Maruti-Suzuki-Ertiga-Hybrid-Facelift-Side-V...</td>\n",
       "      <td>Ertiga</td>\n",
       "    </tr>\n",
       "    <tr>\n",
       "      <th>66</th>\n",
       "      <td>7.maruti-suzuki-ertiga-left-side-view.jpg</td>\n",
       "      <td>Ertiga</td>\n",
       "    </tr>\n",
       "    <tr>\n",
       "      <th>67</th>\n",
       "      <td>8.main_cropped.jpg</td>\n",
       "      <td>Ertiga</td>\n",
       "    </tr>\n",
       "    <tr>\n",
       "      <th>68</th>\n",
       "      <td>9.Maruti_Suzuki_Ertiga.jpg</td>\n",
       "      <td>Ertiga</td>\n",
       "    </tr>\n",
       "  </tbody>\n",
       "</table>\n",
       "</div>"
      ],
      "text/plain": [
       "                                   Vehicle Image Name vehicle Name\n",
       "64                                      68.Paseo1.jpg       Ertiga\n",
       "65  69.Maruti-Suzuki-Ertiga-Hybrid-Facelift-Side-V...       Ertiga\n",
       "66          7.maruti-suzuki-ertiga-left-side-view.jpg       Ertiga\n",
       "67                                 8.main_cropped.jpg       Ertiga\n",
       "68                         9.Maruti_Suzuki_Ertiga.jpg       Ertiga"
      ]
     },
     "execution_count": 108,
     "metadata": {},
     "output_type": "execute_result"
    }
   ],
   "source": [
    "print(image_file.shape)\n",
    "image_file.tail(5)"
   ]
  },
  {
   "cell_type": "code",
   "execution_count": 112,
   "metadata": {},
   "outputs": [],
   "source": [
    "# merged frames into Csv file \n",
    "image_file.to_csv('image_data.csv', encoding='utf-8') "
   ]
  },
  {
   "cell_type": "code",
   "execution_count": 110,
   "metadata": {},
   "outputs": [
    {
     "data": {
      "text/plain": [
       "(1007, 2)"
      ]
     },
     "execution_count": 110,
     "metadata": {},
     "output_type": "execute_result"
    }
   ],
   "source": [
    "image_file.shape"
   ]
  },
  {
   "cell_type": "code",
   "execution_count": 111,
   "metadata": {},
   "outputs": [
    {
     "data": {
      "text/plain": [
       "BMW                      257\n",
       "Audi                     148\n",
       "Hyundai Elite i20         85\n",
       "Hyundai Creta             83\n",
       "Maruti Suzuki Dzire       77\n",
       "Honda City                75\n",
       "Maruti Suzuki Swift       74\n",
       "Maruti Suzuki Alto        72\n",
       "Ertiga                    69\n",
       "Maruti Suzuki Wagon R     67\n",
       "Name: vehicle Name, dtype: int64"
      ]
     },
     "execution_count": 111,
     "metadata": {},
     "output_type": "execute_result"
    }
   ],
   "source": [
    "# all type of classes\n",
    "image_file['vehicle Name'].value_counts()"
   ]
  },
  {
   "cell_type": "code",
   "execution_count": null,
   "metadata": {},
   "outputs": [],
   "source": []
  },
  {
   "cell_type": "code",
   "execution_count": null,
   "metadata": {},
   "outputs": [],
   "source": []
  }
 ],
 "metadata": {
  "kernelspec": {
   "display_name": "Python 3",
   "language": "python",
   "name": "python3"
  },
  "language_info": {
   "codemirror_mode": {
    "name": "ipython",
    "version": 3
   },
   "file_extension": ".py",
   "mimetype": "text/x-python",
   "name": "python",
   "nbconvert_exporter": "python",
   "pygments_lexer": "ipython3",
   "version": "3.6.5"
  }
 },
 "nbformat": 4,
 "nbformat_minor": 2
}
